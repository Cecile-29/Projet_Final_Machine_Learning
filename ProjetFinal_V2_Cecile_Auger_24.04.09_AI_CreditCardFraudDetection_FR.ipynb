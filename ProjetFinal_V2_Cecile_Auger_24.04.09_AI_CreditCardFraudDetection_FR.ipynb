{
 "cells": [
  {
   "cell_type": "markdown",
   "id": "ead4329e",
   "metadata": {
    "id": "e99a30aa"
   },
   "source": [
    "![SkillupLogo.jpg](data:image/jpeg;base64,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)"
   ]
  },
  {
   "cell_type": "markdown",
   "id": "c25c7041",
   "metadata": {
    "id": "Fx7STfuBU-4z"
   },
   "source": [
    "# **Détection de la fraude à la carte bancaire**"
   ]
  },
  {
   "cell_type": "markdown",
   "id": "daaffd97",
   "metadata": {
    "id": "52cb14e2"
   },
   "source": [
    "\n",
    "\n",
    "\n",
    "\n",
    "\n",
    "\n",
    "\n",
    "\n",
    "\n",
    "\n",
    "\n",
    "\n",
    "\n",
    "\n",
    "Lien pour télécharger le dataset: https://www.kaggle.com/datasets/mlg-ulb/creditcardfraud\n",
    "\n",
    "\n",
    "\n",
    "\n",
    "\n",
    "\n",
    "\n",
    "\n",
    "\n",
    "\n",
    "\n"
   ]
  },
  {
   "cell_type": "markdown",
   "id": "6795d0c1",
   "metadata": {
    "id": "ee2177d2"
   },
   "source": [
    "### Importez les bibliothèques nécessaires"
   ]
  },
  {
   "cell_type": "code",
   "execution_count": 1,
   "id": "2eb4d791",
   "metadata": {
    "id": "pEN_Q-SyVNTV"
   },
   "outputs": [],
   "source": [
    "#  Importez les bibliothèques nécessaires\n",
    "\n",
    "import pandas as pd\n",
    "import numpy as np\n",
    "import matplotlib.pyplot as plt\n",
    "import seaborn as sns\n",
    "\n",
    "import warnings\n",
    "warnings.filterwarnings(\"ignore\")"
   ]
  },
  {
   "cell_type": "markdown",
   "id": "c4134d12",
   "metadata": {
    "id": "be3693c6"
   },
   "source": [
    "### Importez et lisez le dataset"
   ]
  },
  {
   "cell_type": "code",
   "execution_count": 2,
   "id": "29b35f75",
   "metadata": {
    "id": "7SsN9nl3WgUe"
   },
   "outputs": [
    {
     "data": {
      "text/html": [
       "<div>\n",
       "<style scoped>\n",
       "    .dataframe tbody tr th:only-of-type {\n",
       "        vertical-align: middle;\n",
       "    }\n",
       "\n",
       "    .dataframe tbody tr th {\n",
       "        vertical-align: top;\n",
       "    }\n",
       "\n",
       "    .dataframe thead th {\n",
       "        text-align: right;\n",
       "    }\n",
       "</style>\n",
       "<table border=\"1\" class=\"dataframe\">\n",
       "  <thead>\n",
       "    <tr style=\"text-align: right;\">\n",
       "      <th></th>\n",
       "      <th>Time</th>\n",
       "      <th>V1</th>\n",
       "      <th>V2</th>\n",
       "      <th>V3</th>\n",
       "      <th>V4</th>\n",
       "      <th>V5</th>\n",
       "      <th>V6</th>\n",
       "      <th>V7</th>\n",
       "      <th>V8</th>\n",
       "      <th>V9</th>\n",
       "      <th>...</th>\n",
       "      <th>V21</th>\n",
       "      <th>V22</th>\n",
       "      <th>V23</th>\n",
       "      <th>V24</th>\n",
       "      <th>V25</th>\n",
       "      <th>V26</th>\n",
       "      <th>V27</th>\n",
       "      <th>V28</th>\n",
       "      <th>Amount</th>\n",
       "      <th>Class</th>\n",
       "    </tr>\n",
       "  </thead>\n",
       "  <tbody>\n",
       "    <tr>\n",
       "      <th>0</th>\n",
       "      <td>0.0</td>\n",
       "      <td>-1.359807</td>\n",
       "      <td>-0.072781</td>\n",
       "      <td>2.536347</td>\n",
       "      <td>1.378155</td>\n",
       "      <td>-0.338321</td>\n",
       "      <td>0.462388</td>\n",
       "      <td>0.239599</td>\n",
       "      <td>0.098698</td>\n",
       "      <td>0.363787</td>\n",
       "      <td>...</td>\n",
       "      <td>-0.018307</td>\n",
       "      <td>0.277838</td>\n",
       "      <td>-0.110474</td>\n",
       "      <td>0.066928</td>\n",
       "      <td>0.128539</td>\n",
       "      <td>-0.189115</td>\n",
       "      <td>0.133558</td>\n",
       "      <td>-0.021053</td>\n",
       "      <td>149.62</td>\n",
       "      <td>0</td>\n",
       "    </tr>\n",
       "    <tr>\n",
       "      <th>1</th>\n",
       "      <td>0.0</td>\n",
       "      <td>1.191857</td>\n",
       "      <td>0.266151</td>\n",
       "      <td>0.166480</td>\n",
       "      <td>0.448154</td>\n",
       "      <td>0.060018</td>\n",
       "      <td>-0.082361</td>\n",
       "      <td>-0.078803</td>\n",
       "      <td>0.085102</td>\n",
       "      <td>-0.255425</td>\n",
       "      <td>...</td>\n",
       "      <td>-0.225775</td>\n",
       "      <td>-0.638672</td>\n",
       "      <td>0.101288</td>\n",
       "      <td>-0.339846</td>\n",
       "      <td>0.167170</td>\n",
       "      <td>0.125895</td>\n",
       "      <td>-0.008983</td>\n",
       "      <td>0.014724</td>\n",
       "      <td>2.69</td>\n",
       "      <td>0</td>\n",
       "    </tr>\n",
       "    <tr>\n",
       "      <th>2</th>\n",
       "      <td>1.0</td>\n",
       "      <td>-1.358354</td>\n",
       "      <td>-1.340163</td>\n",
       "      <td>1.773209</td>\n",
       "      <td>0.379780</td>\n",
       "      <td>-0.503198</td>\n",
       "      <td>1.800499</td>\n",
       "      <td>0.791461</td>\n",
       "      <td>0.247676</td>\n",
       "      <td>-1.514654</td>\n",
       "      <td>...</td>\n",
       "      <td>0.247998</td>\n",
       "      <td>0.771679</td>\n",
       "      <td>0.909412</td>\n",
       "      <td>-0.689281</td>\n",
       "      <td>-0.327642</td>\n",
       "      <td>-0.139097</td>\n",
       "      <td>-0.055353</td>\n",
       "      <td>-0.059752</td>\n",
       "      <td>378.66</td>\n",
       "      <td>0</td>\n",
       "    </tr>\n",
       "    <tr>\n",
       "      <th>3</th>\n",
       "      <td>1.0</td>\n",
       "      <td>-0.966272</td>\n",
       "      <td>-0.185226</td>\n",
       "      <td>1.792993</td>\n",
       "      <td>-0.863291</td>\n",
       "      <td>-0.010309</td>\n",
       "      <td>1.247203</td>\n",
       "      <td>0.237609</td>\n",
       "      <td>0.377436</td>\n",
       "      <td>-1.387024</td>\n",
       "      <td>...</td>\n",
       "      <td>-0.108300</td>\n",
       "      <td>0.005274</td>\n",
       "      <td>-0.190321</td>\n",
       "      <td>-1.175575</td>\n",
       "      <td>0.647376</td>\n",
       "      <td>-0.221929</td>\n",
       "      <td>0.062723</td>\n",
       "      <td>0.061458</td>\n",
       "      <td>123.50</td>\n",
       "      <td>0</td>\n",
       "    </tr>\n",
       "    <tr>\n",
       "      <th>4</th>\n",
       "      <td>2.0</td>\n",
       "      <td>-1.158233</td>\n",
       "      <td>0.877737</td>\n",
       "      <td>1.548718</td>\n",
       "      <td>0.403034</td>\n",
       "      <td>-0.407193</td>\n",
       "      <td>0.095921</td>\n",
       "      <td>0.592941</td>\n",
       "      <td>-0.270533</td>\n",
       "      <td>0.817739</td>\n",
       "      <td>...</td>\n",
       "      <td>-0.009431</td>\n",
       "      <td>0.798278</td>\n",
       "      <td>-0.137458</td>\n",
       "      <td>0.141267</td>\n",
       "      <td>-0.206010</td>\n",
       "      <td>0.502292</td>\n",
       "      <td>0.219422</td>\n",
       "      <td>0.215153</td>\n",
       "      <td>69.99</td>\n",
       "      <td>0</td>\n",
       "    </tr>\n",
       "    <tr>\n",
       "      <th>5</th>\n",
       "      <td>2.0</td>\n",
       "      <td>-0.425966</td>\n",
       "      <td>0.960523</td>\n",
       "      <td>1.141109</td>\n",
       "      <td>-0.168252</td>\n",
       "      <td>0.420987</td>\n",
       "      <td>-0.029728</td>\n",
       "      <td>0.476201</td>\n",
       "      <td>0.260314</td>\n",
       "      <td>-0.568671</td>\n",
       "      <td>...</td>\n",
       "      <td>-0.208254</td>\n",
       "      <td>-0.559825</td>\n",
       "      <td>-0.026398</td>\n",
       "      <td>-0.371427</td>\n",
       "      <td>-0.232794</td>\n",
       "      <td>0.105915</td>\n",
       "      <td>0.253844</td>\n",
       "      <td>0.081080</td>\n",
       "      <td>3.67</td>\n",
       "      <td>0</td>\n",
       "    </tr>\n",
       "    <tr>\n",
       "      <th>6</th>\n",
       "      <td>4.0</td>\n",
       "      <td>1.229658</td>\n",
       "      <td>0.141004</td>\n",
       "      <td>0.045371</td>\n",
       "      <td>1.202613</td>\n",
       "      <td>0.191881</td>\n",
       "      <td>0.272708</td>\n",
       "      <td>-0.005159</td>\n",
       "      <td>0.081213</td>\n",
       "      <td>0.464960</td>\n",
       "      <td>...</td>\n",
       "      <td>-0.167716</td>\n",
       "      <td>-0.270710</td>\n",
       "      <td>-0.154104</td>\n",
       "      <td>-0.780055</td>\n",
       "      <td>0.750137</td>\n",
       "      <td>-0.257237</td>\n",
       "      <td>0.034507</td>\n",
       "      <td>0.005168</td>\n",
       "      <td>4.99</td>\n",
       "      <td>0</td>\n",
       "    </tr>\n",
       "    <tr>\n",
       "      <th>7</th>\n",
       "      <td>7.0</td>\n",
       "      <td>-0.644269</td>\n",
       "      <td>1.417964</td>\n",
       "      <td>1.074380</td>\n",
       "      <td>-0.492199</td>\n",
       "      <td>0.948934</td>\n",
       "      <td>0.428118</td>\n",
       "      <td>1.120631</td>\n",
       "      <td>-3.807864</td>\n",
       "      <td>0.615375</td>\n",
       "      <td>...</td>\n",
       "      <td>1.943465</td>\n",
       "      <td>-1.015455</td>\n",
       "      <td>0.057504</td>\n",
       "      <td>-0.649709</td>\n",
       "      <td>-0.415267</td>\n",
       "      <td>-0.051634</td>\n",
       "      <td>-1.206921</td>\n",
       "      <td>-1.085339</td>\n",
       "      <td>40.80</td>\n",
       "      <td>0</td>\n",
       "    </tr>\n",
       "    <tr>\n",
       "      <th>8</th>\n",
       "      <td>7.0</td>\n",
       "      <td>-0.894286</td>\n",
       "      <td>0.286157</td>\n",
       "      <td>-0.113192</td>\n",
       "      <td>-0.271526</td>\n",
       "      <td>2.669599</td>\n",
       "      <td>3.721818</td>\n",
       "      <td>0.370145</td>\n",
       "      <td>0.851084</td>\n",
       "      <td>-0.392048</td>\n",
       "      <td>...</td>\n",
       "      <td>-0.073425</td>\n",
       "      <td>-0.268092</td>\n",
       "      <td>-0.204233</td>\n",
       "      <td>1.011592</td>\n",
       "      <td>0.373205</td>\n",
       "      <td>-0.384157</td>\n",
       "      <td>0.011747</td>\n",
       "      <td>0.142404</td>\n",
       "      <td>93.20</td>\n",
       "      <td>0</td>\n",
       "    </tr>\n",
       "    <tr>\n",
       "      <th>9</th>\n",
       "      <td>9.0</td>\n",
       "      <td>-0.338262</td>\n",
       "      <td>1.119593</td>\n",
       "      <td>1.044367</td>\n",
       "      <td>-0.222187</td>\n",
       "      <td>0.499361</td>\n",
       "      <td>-0.246761</td>\n",
       "      <td>0.651583</td>\n",
       "      <td>0.069539</td>\n",
       "      <td>-0.736727</td>\n",
       "      <td>...</td>\n",
       "      <td>-0.246914</td>\n",
       "      <td>-0.633753</td>\n",
       "      <td>-0.120794</td>\n",
       "      <td>-0.385050</td>\n",
       "      <td>-0.069733</td>\n",
       "      <td>0.094199</td>\n",
       "      <td>0.246219</td>\n",
       "      <td>0.083076</td>\n",
       "      <td>3.68</td>\n",
       "      <td>0</td>\n",
       "    </tr>\n",
       "  </tbody>\n",
       "</table>\n",
       "<p>10 rows × 31 columns</p>\n",
       "</div>"
      ],
      "text/plain": [
       "   Time        V1        V2        V3        V4        V5        V6        V7  \\\n",
       "0   0.0 -1.359807 -0.072781  2.536347  1.378155 -0.338321  0.462388  0.239599   \n",
       "1   0.0  1.191857  0.266151  0.166480  0.448154  0.060018 -0.082361 -0.078803   \n",
       "2   1.0 -1.358354 -1.340163  1.773209  0.379780 -0.503198  1.800499  0.791461   \n",
       "3   1.0 -0.966272 -0.185226  1.792993 -0.863291 -0.010309  1.247203  0.237609   \n",
       "4   2.0 -1.158233  0.877737  1.548718  0.403034 -0.407193  0.095921  0.592941   \n",
       "5   2.0 -0.425966  0.960523  1.141109 -0.168252  0.420987 -0.029728  0.476201   \n",
       "6   4.0  1.229658  0.141004  0.045371  1.202613  0.191881  0.272708 -0.005159   \n",
       "7   7.0 -0.644269  1.417964  1.074380 -0.492199  0.948934  0.428118  1.120631   \n",
       "8   7.0 -0.894286  0.286157 -0.113192 -0.271526  2.669599  3.721818  0.370145   \n",
       "9   9.0 -0.338262  1.119593  1.044367 -0.222187  0.499361 -0.246761  0.651583   \n",
       "\n",
       "         V8        V9  ...       V21       V22       V23       V24       V25  \\\n",
       "0  0.098698  0.363787  ... -0.018307  0.277838 -0.110474  0.066928  0.128539   \n",
       "1  0.085102 -0.255425  ... -0.225775 -0.638672  0.101288 -0.339846  0.167170   \n",
       "2  0.247676 -1.514654  ...  0.247998  0.771679  0.909412 -0.689281 -0.327642   \n",
       "3  0.377436 -1.387024  ... -0.108300  0.005274 -0.190321 -1.175575  0.647376   \n",
       "4 -0.270533  0.817739  ... -0.009431  0.798278 -0.137458  0.141267 -0.206010   \n",
       "5  0.260314 -0.568671  ... -0.208254 -0.559825 -0.026398 -0.371427 -0.232794   \n",
       "6  0.081213  0.464960  ... -0.167716 -0.270710 -0.154104 -0.780055  0.750137   \n",
       "7 -3.807864  0.615375  ...  1.943465 -1.015455  0.057504 -0.649709 -0.415267   \n",
       "8  0.851084 -0.392048  ... -0.073425 -0.268092 -0.204233  1.011592  0.373205   \n",
       "9  0.069539 -0.736727  ... -0.246914 -0.633753 -0.120794 -0.385050 -0.069733   \n",
       "\n",
       "        V26       V27       V28  Amount  Class  \n",
       "0 -0.189115  0.133558 -0.021053  149.62      0  \n",
       "1  0.125895 -0.008983  0.014724    2.69      0  \n",
       "2 -0.139097 -0.055353 -0.059752  378.66      0  \n",
       "3 -0.221929  0.062723  0.061458  123.50      0  \n",
       "4  0.502292  0.219422  0.215153   69.99      0  \n",
       "5  0.105915  0.253844  0.081080    3.67      0  \n",
       "6 -0.257237  0.034507  0.005168    4.99      0  \n",
       "7 -0.051634 -1.206921 -1.085339   40.80      0  \n",
       "8 -0.384157  0.011747  0.142404   93.20      0  \n",
       "9  0.094199  0.246219  0.083076    3.68      0  \n",
       "\n",
       "[10 rows x 31 columns]"
      ]
     },
     "execution_count": 2,
     "metadata": {},
     "output_type": "execute_result"
    }
   ],
   "source": [
    "# Extrayez les données dans un Dataframe\n",
    "\n",
    "credit_card_transactions_df = pd.read_csv(\"creditcard.csv\")\n",
    "credit_card_transactions_df.head(10)"
   ]
  },
  {
   "cell_type": "markdown",
   "id": "3d4fe1a9",
   "metadata": {
    "id": "029752ea"
   },
   "source": [
    "### Nettoyage de données"
   ]
  },
  {
   "cell_type": "markdown",
   "id": "fe00f5bd",
   "metadata": {
    "id": "cb2a68ca"
   },
   "source": [
    "a. Nettoyage des valeurs manquantes"
   ]
  },
  {
   "cell_type": "code",
   "execution_count": 3,
   "id": "efd10e6f",
   "metadata": {
    "colab": {
     "base_uri": "https://localhost:8080/"
    },
    "id": "aH4heMPnYzfa",
    "outputId": "d9becb42-71aa-43cd-ced8-66c69b470692"
   },
   "outputs": [
    {
     "data": {
      "text/plain": [
       "Time      0\n",
       "V1        0\n",
       "V2        0\n",
       "V3        0\n",
       "V4        0\n",
       "V5        0\n",
       "V6        0\n",
       "V7        0\n",
       "V8        0\n",
       "V9        0\n",
       "V10       0\n",
       "V11       0\n",
       "V12       0\n",
       "V13       0\n",
       "V14       0\n",
       "V15       0\n",
       "V16       0\n",
       "V17       0\n",
       "V18       0\n",
       "V19       0\n",
       "V20       0\n",
       "V21       0\n",
       "V22       0\n",
       "V23       0\n",
       "V24       0\n",
       "V25       0\n",
       "V26       0\n",
       "V27       0\n",
       "V28       0\n",
       "Amount    0\n",
       "Class     0\n",
       "dtype: int64"
      ]
     },
     "execution_count": 3,
     "metadata": {},
     "output_type": "execute_result"
    }
   ],
   "source": [
    "#Ecrivez votre code ici\n",
    "credit_card_transactions_df.isnull().sum()"
   ]
  },
  {
   "cell_type": "markdown",
   "id": "4516036d",
   "metadata": {
    "id": "6295d53f"
   },
   "source": [
    "b. Données répétées"
   ]
  },
  {
   "cell_type": "code",
   "execution_count": 4,
   "id": "da501911",
   "metadata": {},
   "outputs": [
    {
     "data": {
      "text/plain": [
       "1081"
      ]
     },
     "execution_count": 4,
     "metadata": {},
     "output_type": "execute_result"
    }
   ],
   "source": [
    "#Ecrivez votre code ici\n",
    "credit_card_transactions_df.duplicated().sum()"
   ]
  },
  {
   "cell_type": "markdown",
   "id": "b5119181",
   "metadata": {
    "id": "61a15123"
   },
   "source": [
    "### Analyse des données"
   ]
  },
  {
   "cell_type": "markdown",
   "id": "5f9d6331",
   "metadata": {
    "id": "ymzeVlYsdzK9"
   },
   "source": [
    "\n",
    "Première question : Quel est le pourcentage de transactions frauduleuses?\n"
   ]
  },
  {
   "cell_type": "code",
   "execution_count": 5,
   "id": "d7c0039f",
   "metadata": {},
   "outputs": [
    {
     "name": "stdout",
     "output_type": "stream",
     "text": [
      "Le pourcentage de transactions frauduleuses s'élève à : 0.17%\n"
     ]
    }
   ],
   "source": [
    "# Calculez le pourcentage de transactions frauduleuses\n",
    "percentage_of_fraudulent_transactions = credit_card_transactions_df['Class'].mean() * 100\n",
    "# Imprimez le pourcentage que vous obtenez\n",
    "print(\"Le pourcentage de transactions frauduleuses s'élève à : %.2f%%\" % percentage_of_fraudulent_transactions)"
   ]
  },
  {
   "cell_type": "markdown",
   "id": "906ae755",
   "metadata": {
    "id": "HkKxW6Z-dyVZ"
   },
   "source": [
    "\n",
    "Deuxième question: A combien s'élève en moyenne le montant des transactions frauduleuses ?\n"
   ]
  },
  {
   "cell_type": "code",
   "execution_count": 6,
   "id": "38993dc8",
   "metadata": {
    "colab": {
     "base_uri": "https://localhost:8080/"
    },
    "id": "29tD3aqxdNyF",
    "outputId": "a194a143-d821-4fdf-c512-487680012902"
   },
   "outputs": [
    {
     "name": "stdout",
     "output_type": "stream",
     "text": [
      "Le montant moyen des transactions frauduleuses est de : 122.21\n"
     ]
    }
   ],
   "source": [
    "# Calculez le montant moyen des transactions frauduleuses\n",
    "\n",
    "# Filtrer les transactions frauduleuses\n",
    "fraudulent_transactions = credit_card_transactions_df[credit_card_transactions_df['Class'] == 1]\n",
    "# Calculer le montant moyen des transactions frauduleuses\n",
    "average_fraudulent_transaction_amount = fraudulent_transactions['Amount'].mean()\n",
    "\n",
    "# Imprimez le résultat obtenu\n",
    "print(f\"Le montant moyen des transactions frauduleuses est de : {average_fraudulent_transaction_amount:.2f}\")"
   ]
  },
  {
   "cell_type": "markdown",
   "id": "4c947f70",
   "metadata": {
    "id": "6efda2ac"
   },
   "source": [
    "### Visualisation des données"
   ]
  },
  {
   "cell_type": "markdown",
   "id": "02753134",
   "metadata": {
    "id": "UVvhV7XTbAfs"
   },
   "source": [
    "\n",
    "Première question : Quelle est la proportion de transactions frauduleuses par rapport aux transactions non frauduleuses ? (Utilisez un diagramme à barres)"
   ]
  },
  {
   "cell_type": "code",
   "execution_count": 8,
   "id": "65747ac7",
   "metadata": {
    "colab": {
     "base_uri": "https://localhost:8080/",
     "height": 472
    },
    "id": "BPPpMLz-bBsK",
    "outputId": "da306b68-094f-4513-ef03-9cdbbf1358b2"
   },
   "outputs": [
    {
     "data": {
      "image/png": "[encoded data removed]",
      "text/plain": [
       "<Figure size 1300x600 with 1 Axes>"
      ]
     },
     "metadata": {},
     "output_type": "display_data"
    }
   ],
   "source": [
    "# Calculez le nombre de transactions frauduleuses et non frauduleuses\n",
    "percentage_of_non_fraudulent_transactions = 100 - percentage_of_fraudulent_transactions \n",
    "\n",
    "''' Représentez la distribution des transactions frauduleuses par rapport aux transactions non frauduleuses :\n",
    "# 1 Créer le graphique à barres : '''\n",
    "plt.figure(figsize=(13, 6)) \n",
    "axes = sns.countplot(x='Class', data=credit_card_transactions_df, palette=['pink', 'orange'])\n",
    "\n",
    "# Ajouter un titre et des étiquettes\n",
    "plt.title('Proportion de Transactions Frauduleuses')\n",
    "plt.xlabel(\"Type de Transaction (0 = Non Frauduleuse, 1 = Frauduleuse)\")\n",
    "plt.ylabel(\"Nombre de Transactions\")\n",
    "\n",
    "# Ajouter les pourcentages sous les barres\n",
    "\n",
    "axes.set_xticklabels([f'0\\n{percentage_of_non_fraudulent_transactions:.2f}%', \n",
    "                    f'1\\n{percentage_of_fraudulent_transactions:.2f}%'])\n",
    "\n",
    "\n",
    "# Afficher le graphique\n",
    "plt.show()"
   ]
  },
  {
   "cell_type": "markdown",
   "id": "6a282afc",
   "metadata": {
    "id": "mQ_FeNOpbg-U"
   },
   "source": [
    "2e question: Quelle est la distribution des montants des transactions frauduleuses ? (Utilisez un histogramme)\n"
   ]
  },
  {
   "cell_type": "code",
   "execution_count": 10,
   "id": "97a8b8b2",
   "metadata": {
    "colab": {
     "base_uri": "https://localhost:8080/",
     "height": 472
    },
    "id": "HEnYN0fxbh_Z",
    "outputId": "eab7e8b4-35c8-492f-f02b-58b6d83deab4"
   },
   "outputs": [
    {
     "data": {
      "image/png": "[encoded data removed]",
      "text/plain": [
       "<Figure size 640x480 with 1 Axes>"
      ]
     },
     "metadata": {},
     "output_type": "display_data"
    }
   ],
   "source": [
    "# Séparez les données concernant les transactions frauduleuses\n",
    "fraudulent_transactions = credit_card_transactions_df[credit_card_transactions_df['Class'] == 1]\n",
    "\n",
    "#  Illustrez la distribution relative aux montants des transactions frauduleuses.\n",
    "sns.histplot(fraudulent_transactions['Amount'], bins=30, kde=True, color='orange')\n",
    "# Changer la couleur de fond\n",
    "plt.gca().set_facecolor('lightblue')\n",
    "\n",
    "# Ajouter un titre et des étiquettes\n",
    "plt.title('Distribution des Montants des Transactions Frauduleuses')\n",
    "plt.xlabel(\"Montant des transactions frauduleuses\")\n",
    "plt.ylabel(\"Nombre de transaction frauduleuses\")\n",
    "\n",
    "plt.show()"
   ]
  },
  {
   "cell_type": "markdown",
   "id": "8e330fde",
   "metadata": {},
   "source": [
    "### Développement et évaluation du modèle"
   ]
  },
  {
   "cell_type": "markdown",
   "id": "3199958a",
   "metadata": {},
   "source": [
    "### Fractionner un dataset"
   ]
  },
  {
   "cell_type": "code",
   "execution_count": 11,
   "id": "5c16e87f",
   "metadata": {},
   "outputs": [],
   "source": [
    "# Entraîner et tester les fractionnements \n",
    "\n",
    "# Importer la fonction train_test_split de scikit-learn\n",
    "from sklearn.model_selection import train_test_split\n",
    "\n",
    "# Séparer les caractéristiques de la variable cible \n",
    "X = credit_card_transactions_df.drop(columns='Class')\n",
    "y = credit_card_transactions_df['Class']\n",
    "\n",
    "# Diviser les données en ensembles d'entraînement et de test\n",
    "X_train, X_test, y_train, y_test = train_test_split(X, y, test_size=0.2, random_state=42)"
   ]
  },
  {
   "cell_type": "markdown",
   "id": "8721f8dc",
   "metadata": {},
   "source": [
    "### Modélisation et évaluation"
   ]
  },
  {
   "cell_type": "code",
   "execution_count": 12,
   "id": "496d2812",
   "metadata": {},
   "outputs": [
    {
     "name": "stdout",
     "output_type": "stream",
     "text": [
      "              precision    recall  f1-score   support\n",
      "\n",
      "           0       1.00      1.00      1.00     56864\n",
      "           1       0.97      0.77      0.86        98\n",
      "\n",
      "    accuracy                           1.00     56962\n",
      "   macro avg       0.99      0.88      0.93     56962\n",
      "weighted avg       1.00      1.00      1.00     56962\n",
      "\n",
      "Précision du modèle : 99.96%\n"
     ]
    }
   ],
   "source": [
    "#écrivez votre code ici\n",
    "\n",
    "# Importer les bibliothèques nécessaires\n",
    "from sklearn.ensemble import RandomForestClassifier # classificateur basé sur une forêt d’arbres de décision\n",
    "from sklearn.metrics import classification_report, accuracy_score # fonctions pour évaluer les performances du modèle\n",
    "\n",
    "model = RandomForestClassifier(max_depth=150, random_state=42)\n",
    "\n",
    "# Entraînement du modèle et prédiction\n",
    "model.fit(X_train, y_train)\n",
    "y_pred = model.predict(X_test)\n",
    "\n",
    "# Évaluation du modèle\n",
    "print(classification_report(y_test, y_pred))\n",
    "print(f\"Précision du modèle : {accuracy_score(y_test, y_pred) * 100:.2f}%\")"
   ]
  }
 ],
 "metadata": {
  "kernelspec": {
   "display_name": "Python 3 (ipykernel)",
   "language": "python",
   "name": "python3"
  },
  "language_info": {
   "codemirror_mode": {
    "name": "ipython",
    "version": 3
   },
   "file_extension": ".py",
   "mimetype": "text/x-python",
   "name": "python",
   "nbconvert_exporter": "python",
   "pygments_lexer": "ipython3",
   "version": "3.12.4"
  }
 },
 "nbformat": 4,
 "nbformat_minor": 5
}
